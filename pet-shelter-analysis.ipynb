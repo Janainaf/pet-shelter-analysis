{
 "cells": [
  {
   "cell_type": "code",
   "execution_count": 472,
   "id": "5dc28bf1-f8d5-4004-946d-cc2c3077e474",
   "metadata": {
    "jp-MarkdownHeadingCollapsed": true,
    "tags": []
   },
   "outputs": [],
   "source": [
    "import numpy as np\n",
    "import pandas as pd\n",
    "acc_intake = pd.read_csv('aac_intakes.csv', index_col=1)\n"
   ]
  },
  {
   "cell_type": "code",
   "execution_count": 160,
   "id": "952773f3-fc83-49c1-9206-b64c44c0f483",
   "metadata": {},
   "outputs": [],
   "source": [
    "#acc_intake.dtypes"
   ]
  },
  {
   "cell_type": "markdown",
   "id": "f14f172b-142b-4f62-8409-7daad7ab778d",
   "metadata": {},
   "source": [
    "### 1) Find the top 5 places where animals are found so the shelter can coordinate with local volunteers and animal control to monitor these areas. "
   ]
  },
  {
   "cell_type": "code",
   "execution_count": 473,
   "id": "cdd634bb-9065-4a51-ae06-6ff8a2201494",
   "metadata": {},
   "outputs": [
    {
     "data": {
      "text/plain": [
       "Austin (TX)                          14443\n",
       "Outside Jurisdiction                   948\n",
       "Travis (TX)                            921\n",
       "7201 Levander Loop in Austin (TX)      517\n",
       "Del Valle (TX)                         411\n",
       "Pflugerville (TX)                      372\n",
       "Name: found_location, dtype: int64"
      ]
     },
     "execution_count": 473,
     "metadata": {},
     "output_type": "execute_result"
    }
   ],
   "source": [
    "#location = acc_intake.groupby(\"found_location\")[\"animal_id\"].count()\n",
    "#location.sort_values(ascending=False).head(20)\n",
    "acc_intake.found_location.value_counts().head(6)"
   ]
  },
  {
   "cell_type": "markdown",
   "id": "acb07a22-38c4-4f7b-8ca2-b58472ab4968",
   "metadata": {},
   "source": [
    "### 2) What is the average number of pets found in a month in the year 2015? Are there months where there is a higher number of animals found?"
   ]
  },
  {
   "cell_type": "code",
   "execution_count": 478,
   "id": "fd61f834-f025-42aa-b8d1-3793986d0eba",
   "metadata": {},
   "outputs": [],
   "source": [
    "acc_intake_outcomes = pd.read_csv('aac_intakes_outcomes.csv',index_col=1)"
   ]
  },
  {
   "cell_type": "code",
   "execution_count": 479,
   "id": "71ad481a-9533-4186-9bcf-913bac433602",
   "metadata": {},
   "outputs": [
    {
     "name": "stdout",
     "output_type": "stream",
     "text": [
      "1558.25\n",
      "intake_month\n",
      "1     5982\n",
      "2     5677\n",
      "3     6613\n",
      "4     6112\n",
      "5     7966\n",
      "6     7459\n",
      "7     6528\n",
      "8     6498\n",
      "9     6489\n",
      "10    7652\n",
      "11    6597\n",
      "12    6099\n",
      "Name: intake_year, dtype: int64\n"
     ]
    }
   ],
   "source": [
    "year2015 = acc_intake_outcomes.loc[(acc_intake_outcomes['intake_year'] == 2015)].count()\n",
    "print(year2015['intake_year']/12)\n",
    "average = acc_intake_outcomes.groupby(\"intake_month\")[\"intake_year\"].count()\n",
    "print(average)"
   ]
  },
  {
   "cell_type": "markdown",
   "id": "d6523b8b-e819-49d7-87f7-338e8fabe244",
   "metadata": {},
   "source": [
    "### 3) What is the ratio of incoming pets vs. adopted pets?\n",
    "#### This key metric helps the shelter know how they are doing.\n"
   ]
  },
  {
   "cell_type": "code",
   "execution_count": 480,
   "id": "030d791f-38b9-4c32-9d44-20594c699d55",
   "metadata": {},
   "outputs": [
    {
     "name": "stdout",
     "output_type": "stream",
     "text": [
      "0.4216537805000502\n"
     ]
    }
   ],
   "source": [
    "adopted = acc_intake_outcomes.loc[(acc_intake_outcomes['outcome_type'] == \"Adoption\")].count()\n",
    "total = acc_intake_outcomes[\"count\"].count()\n",
    "print(adopted[\"count\"]/total)"
   ]
  },
  {
   "cell_type": "markdown",
   "id": "e5de525d-5a34-4707-b453-abf02f624be1",
   "metadata": {},
   "source": [
    "### 4) What is the distribution of the types of animals in the shelter?\n",
    "#### Find the count of each type of animal in the shelter.\n"
   ]
  },
  {
   "cell_type": "code",
   "execution_count": 481,
   "id": "3358ed8e-f4ca-41fa-8020-f27cddd2c9fc",
   "metadata": {},
   "outputs": [
    {
     "name": "stdout",
     "output_type": "stream",
     "text": [
      "Dog      45366\n",
      "Cat      29539\n",
      "Other     4428\n",
      "Bird       339\n",
      "Name: animal_type, dtype: int64\n"
     ]
    }
   ],
   "source": [
    "types = acc_intake_outcomes.animal_type.value_counts()\n",
    "print(types)\n"
   ]
  },
  {
   "cell_type": "markdown",
   "id": "1d7fa447-e783-4901-b89e-66e1510df528",
   "metadata": {},
   "source": [
    "### 5) What are the adoption rates for specific breeds?\n",
    "#### Find the top 5 dog breeds in the shelter (based on count) and then find the adoption percentage of each breed.\n"
   ]
  },
  {
   "cell_type": "code",
   "execution_count": 482,
   "id": "dfd57893-a068-4b24-a34c-6518eb5b83bd",
   "metadata": {},
   "outputs": [
    {
     "name": "stdout",
     "output_type": "stream",
     "text": [
      "Domestic Shorthair Mix      23423\n",
      "Pit Bull Mix                 6256\n",
      "Chihuahua Shorthair Mix      4831\n",
      "Labrador Retriever Mix       4789\n",
      "Domestic Medium Hair Mix     2326\n",
      "German Shepherd Mix          1950\n",
      "Name: breed, dtype: int64\n"
     ]
    }
   ],
   "source": [
    "breed = acc_intake_outcomes.breed.value_counts().head(6)\n",
    "print(breed)"
   ]
  },
  {
   "cell_type": "markdown",
   "id": "10e492e4-68ea-461f-a4e3-2173efcad7bb",
   "metadata": {},
   "source": [
    "### 6) What are the adoption rates for different colorings?\n",
    "#### Find the top 5 colorings in the shelter (based on count) and then find the adoption percentage of each color."
   ]
  },
  {
   "cell_type": "code",
   "execution_count": 483,
   "id": "8b43ec58-1dca-4d88-9cb3-dc4ef51a9e10",
   "metadata": {},
   "outputs": [
    {
     "name": "stdout",
     "output_type": "stream",
     "text": [
      "Black/White    8270\n",
      "Black          6673\n",
      "Brown Tabby    4471\n",
      "Brown          3598\n",
      "White          2835\n",
      "Name: color, dtype: int64\n",
      "0.4519951632406288\n",
      "0.40341675408362054\n",
      "0.4184746141802729\n",
      "0.22123154081916968\n",
      "0.37566137566137564\n"
     ]
    }
   ],
   "source": [
    "color = acc_intake_outcomes.color.value_counts().head(5)\n",
    "print(color)\n",
    "adopted = acc_intake_outcomes.loc[(acc_intake_outcomes['outcome_type'] == \"Adoption\")]\n",
    "blackwhite = adopted.loc[(adopted['color'] == \"Black/White\")]\n",
    "print(blackwhite[\"count\"].count()/8270)\n",
    "black = adopted.loc[(adopted['color'] == \"Black\")]\n",
    "print(black[\"count\"].count()/6673)\n",
    "browntabby = adopted.loc[(adopted['color'] == \"Brown Tabby\")]\n",
    "print(browntabby[\"count\"].count()/4471)\n",
    "brown = adopted.loc[(adopted['color'] == \"Brown\")]\n",
    "print(brown[\"count\"].count()/3589)\n",
    "white = adopted.loc[(adopted['color'] == \"White\")]\n",
    "print(white[\"count\"].count()/2835)\n"
   ]
  },
  {
   "cell_type": "markdown",
   "id": "17a7f48d-e7df-4438-aa3f-6eea7ff1a282",
   "metadata": {},
   "source": [
    "### 7) About how many animals are spayed/neutered each month?\n",
    "#### This will help the shelter allocate resources and staff. Assume that all intact males and females will be spayed/neutered.\n"
   ]
  },
  {
   "cell_type": "code",
   "execution_count": 597,
   "id": "96d37f20-3dfb-4628-b763-1ab4a295d881",
   "metadata": {},
   "outputs": [
    {
     "name": "stdout",
     "output_type": "stream",
     "text": [
      "49021\n",
      "intake_month\n",
      "1     3521\n",
      "2     3184\n",
      "3     3399\n",
      "4     3531\n",
      "5     5211\n",
      "6     4994\n",
      "7     4287\n",
      "8     4121\n",
      "9     4184\n",
      "10    4860\n",
      "11    4087\n",
      "12    3642\n",
      "Name: count, dtype: int64\n"
     ]
    }
   ],
   "source": [
    "sex = acc_intake_outcomes.loc[(acc_intake_outcomes['sex_upon_intake'] == \"Intact Male\") | (acc_intake_outcomes['sex_upon_intake'] == \"Intact Female\" )] \n",
    "print(sex['sex_upon_intake'].count())\n",
    "months = sex.groupby(\"intake_month\").count()\n",
    "print(months[\"count\"])"
   ]
  },
  {
   "cell_type": "raw",
   "id": "8d4e2833-a086-4ce3-b31b-8d04214c7675",
   "metadata": {},
   "source": [
    "##### ### 8 ) Describe your findings and methods for each of the above questions. Use markdown cells in JupyterLab to detail.\n",
    "  #### How did you get your answer?\n",
    "   #### What was your final answer?\n",
    "\n",
    "\n"
   ]
  },
  {
   "cell_type": "code",
   "execution_count": null,
   "id": "91c1915a-5f0c-4b2f-8b95-d6a1fe356703",
   "metadata": {},
   "outputs": [],
   "source": []
  }
 ],
 "metadata": {
  "kernelspec": {
   "display_name": "Python 3 (ipykernel)",
   "language": "python",
   "name": "python3"
  },
  "language_info": {
   "codemirror_mode": {
    "name": "ipython",
    "version": 3
   },
   "file_extension": ".py",
   "mimetype": "text/x-python",
   "name": "python",
   "nbconvert_exporter": "python",
   "pygments_lexer": "ipython3",
   "version": "3.9.7"
  }
 },
 "nbformat": 4,
 "nbformat_minor": 5
}
