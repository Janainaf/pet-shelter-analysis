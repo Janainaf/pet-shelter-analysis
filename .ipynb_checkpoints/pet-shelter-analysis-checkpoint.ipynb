{
 "cells": [
  {
   "cell_type": "code",
   "execution_count": 94,
   "id": "5dc28bf1-f8d5-4004-946d-cc2c3077e474",
   "metadata": {
    "jp-MarkdownHeadingCollapsed": true,
    "tags": []
   },
   "outputs": [],
   "source": [
    "import numpy as np\n",
    "import pandas as pd\n",
    "acc_intake = pd.read_csv('aac_intakes.csv', index_col=0)\n"
   ]
  },
  {
   "cell_type": "code",
   "execution_count": 160,
   "id": "952773f3-fc83-49c1-9206-b64c44c0f483",
   "metadata": {},
   "outputs": [],
   "source": [
    "#acc_intake.dtypes"
   ]
  },
  {
   "cell_type": "markdown",
   "id": "f14f172b-142b-4f62-8409-7daad7ab778d",
   "metadata": {},
   "source": [
    "### 1) Find the top 5 places where animals are found so the shelter can coordinate with local volunteers and animal control to monitor these areas. "
   ]
  },
  {
   "cell_type": "code",
   "execution_count": 168,
   "id": "cdd634bb-9065-4a51-ae06-6ff8a2201494",
   "metadata": {},
   "outputs": [
    {
     "data": {
      "text/plain": [
       "Austin (TX)                          14443\n",
       "Outside Jurisdiction                   948\n",
       "Travis (TX)                            921\n",
       "7201 Levander Loop in Austin (TX)      517\n",
       "Del Valle (TX)                         411\n",
       "Pflugerville (TX)                      372\n",
       "Name: found_location, dtype: int64"
      ]
     },
     "execution_count": 168,
     "metadata": {},
     "output_type": "execute_result"
    }
   ],
   "source": [
    "#location = acc_intake.groupby(\"found_location\")[\"animal_id\"].count()\n",
    "#location.sort_values(ascending=False).head(20)\n",
    "acc_intake.found_location.value_counts().head(6)"
   ]
  },
  {
   "cell_type": "markdown",
   "id": "acb07a22-38c4-4f7b-8ca2-b58472ab4968",
   "metadata": {},
   "source": [
    "### 2) What is the average number of pets found in a month in the year 2015? Are there months where there is a higher number of animals found?"
   ]
  },
  {
   "cell_type": "code",
   "execution_count": 159,
   "id": "fd61f834-f025-42aa-b8d1-3793986d0eba",
   "metadata": {},
   "outputs": [],
   "source": [
    "acc_intake_outcomes = pd.read_csv('aac_intakes_outcomes.csv')"
   ]
  },
  {
   "cell_type": "code",
   "execution_count": 185,
   "id": "71ad481a-9533-4186-9bcf-913bac433602",
   "metadata": {},
   "outputs": [
    {
     "name": "stdout",
     "output_type": "stream",
     "text": [
      "1558.25\n",
      "intake_month\n",
      "1     1199\n",
      "2     1120\n",
      "3     1345\n",
      "4     1539\n",
      "5     2092\n",
      "6     2188\n",
      "7     1634\n",
      "8     1717\n",
      "9     1590\n",
      "10    1738\n",
      "11    1409\n",
      "12    1128\n",
      "Name: intake_year, dtype: int64\n"
     ]
    }
   ],
   "source": [
    "year2015 = acc_intake_outcomes.loc[(acc_intake_outcomes['intake_year'] == 2015)].count()\n",
    "print(year2015['intake_year']/12)\n",
    "average = acc_intake_outcomes.groupby(\"intake_month\")[\"intake_year\"].count()\n",
    "print(average)"
   ]
  },
  {
   "cell_type": "code",
   "execution_count": 154,
   "id": "67a82517-2b51-4949-ad23-89d4eba7381e",
   "metadata": {},
   "outputs": [],
   "source": [
    "#acc_intake_outcomes.count()\n",
    "#acc_intake_outcomes.describe()\n"
   ]
  },
  {
   "cell_type": "markdown",
   "id": "d6523b8b-e819-49d7-87f7-338e8fabe244",
   "metadata": {},
   "source": [
    "### 3) What is the ratio of incoming pets vs. adopted pets?\n",
    "#### This key metric helps the shelter know how they are doing.\n"
   ]
  },
  {
   "cell_type": "code",
   "execution_count": 209,
   "id": "030d791f-38b9-4c32-9d44-20594c699d55",
   "metadata": {},
   "outputs": [
    {
     "name": "stdout",
     "output_type": "stream",
     "text": [
      "0.4011979250227285\n"
     ]
    }
   ],
   "source": [
    "adopted = acc_intake_outcomes.loc[(acc_intake_outcomes['outcome_type'] == \"Adoption\")].count()\n",
    "total = acc_intake_outcomes[\"count\"].count()\n",
    "print(adopted[\"count\"]/total)"
   ]
  },
  {
   "cell_type": "markdown",
   "id": "e5de525d-5a34-4707-b453-abf02f624be1",
   "metadata": {},
   "source": [
    "### 4) What is the distribution of the types of animals in the shelter?\n",
    "#### Find the count of each type of animal in the shelter.\n"
   ]
  },
  {
   "cell_type": "code",
   "execution_count": null,
   "id": "3358ed8e-f4ca-41fa-8020-f27cddd2c9fc",
   "metadata": {},
   "outputs": [],
   "source": []
  }
 ],
 "metadata": {
  "kernelspec": {
   "display_name": "Python 3 (ipykernel)",
   "language": "python",
   "name": "python3"
  },
  "language_info": {
   "codemirror_mode": {
    "name": "ipython",
    "version": 3
   },
   "file_extension": ".py",
   "mimetype": "text/x-python",
   "name": "python",
   "nbconvert_exporter": "python",
   "pygments_lexer": "ipython3",
   "version": "3.9.7"
  }
 },
 "nbformat": 4,
 "nbformat_minor": 5
}
