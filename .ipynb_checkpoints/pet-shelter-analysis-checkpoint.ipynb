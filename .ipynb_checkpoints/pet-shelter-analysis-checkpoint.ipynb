{
 "cells": [
  {
   "cell_type": "code",
   "execution_count": 4,
   "id": "5dc28bf1-f8d5-4004-946d-cc2c3077e474",
   "metadata": {
    "jp-MarkdownHeadingCollapsed": true,
    "tags": []
   },
   "outputs": [],
   "source": [
    "import numpy as np\n",
    "import pandas as pd\n",
    "acc_intake = pd.read_csv('aac_intakes.csv', index_col=1)\n"
   ]
  },
  {
   "cell_type": "code",
   "execution_count": 5,
   "id": "952773f3-fc83-49c1-9206-b64c44c0f483",
   "metadata": {},
   "outputs": [],
   "source": [
    "#acc_intake.dtypes"
   ]
  },
  {
   "cell_type": "markdown",
   "id": "f14f172b-142b-4f62-8409-7daad7ab778d",
   "metadata": {},
   "source": [
    "### 1) Find the top 5 places where animals are found so the shelter can coordinate with local volunteers and animal control to monitor these areas. "
   ]
  },
  {
   "cell_type": "code",
   "execution_count": 6,
   "id": "cdd634bb-9065-4a51-ae06-6ff8a2201494",
   "metadata": {},
   "outputs": [
    {
     "data": {
      "text/plain": [
       "Austin (TX)                          14443\n",
       "Outside Jurisdiction                   948\n",
       "Travis (TX)                            921\n",
       "7201 Levander Loop in Austin (TX)      517\n",
       "Del Valle (TX)                         411\n",
       "Name: found_location, dtype: int64"
      ]
     },
     "execution_count": 6,
     "metadata": {},
     "output_type": "execute_result"
    }
   ],
   "source": [
    "#location = acc_intake.groupby(\"found_location\")[\"animal_id\"].count()\n",
    "#location.sort_values(ascending=False).head(20)\n",
    "acc_intake.found_location.value_counts().head(5)"
   ]
  },
  {
   "cell_type": "markdown",
   "id": "8df4fcbe",
   "metadata": {},
   "source": [
    "#### Answer 1 ) Above it is shown the top 5 places where animals are found. \n",
    "To reach these results, I used value_counts(), that returns a series containing counts of unique values (in this case, intake_found_location); and the function head(), that returns the first n rows (in this case, 5 rows) for the object based on position."
   ]
  },
  {
   "cell_type": "markdown",
   "id": "acb07a22-38c4-4f7b-8ca2-b58472ab4968",
   "metadata": {},
   "source": [
    "### 2) What is the average number of pets found in a month in the year 2015? Are there months where there is a higher number of animals found?"
   ]
  },
  {
   "cell_type": "code",
   "execution_count": 9,
   "id": "fd61f834-f025-42aa-b8d1-3793986d0eba",
   "metadata": {},
   "outputs": [],
   "source": [
    "acc_intake_outcomes = pd.read_csv('aac_intakes_outcomes.csv',index_col=1)"
   ]
  },
  {
   "cell_type": "code",
   "execution_count": 26,
   "id": "71ad481a-9533-4186-9bcf-913bac433602",
   "metadata": {},
   "outputs": [
    {
     "name": "stdout",
     "output_type": "stream",
     "text": [
      "intake_month\n",
      "1     5982\n",
      "2     5677\n",
      "3     6613\n",
      "4     6112\n",
      "5     7966\n",
      "6     7459\n",
      "7     6528\n",
      "8     6498\n",
      "9     6489\n",
      "10    7652\n",
      "11    6597\n",
      "12    6099\n",
      "Name: intake_year, dtype: int64\n",
      "6639.333333333333\n"
     ]
    }
   ],
   "source": [
    "year2015 = acc_intake_outcomes.loc[(acc_intake_outcomes['intake_year'] == 2015)].count()\n",
    "permonth = acc_intake_outcomes.groupby(\"intake_month\")[\"intake_year\"].count()\n",
    "print(permonth)\n",
    "print(permonth.mean())\n"
   ]
  },
  {
   "cell_type": "markdown",
   "id": "19c83e93",
   "metadata": {},
   "source": [
    "#### Answer 2 ) Above it is listed the count for each month for 2015. The average across those months is shown below: around 6639 ( corroborated by the fact that most months are all in the 5/6/7 thousands)\n",
    "To reach these results, I first created a variable year2015 to store just values where intake_year was equal to 2015. Then I grouped these values (using group_by)  by month (intake_month) and counted unique values (function count()) inside each group (here, group of months).\n",
    "Using mean() I got the avearge of the values over the requested axis."
   ]
  },
  {
   "cell_type": "markdown",
   "id": "d6523b8b-e819-49d7-87f7-338e8fabe244",
   "metadata": {},
   "source": [
    "### 3) What is the ratio of incoming pets vs. adopted pets?\n",
    "#### This key metric helps the shelter know how they are doing.\n"
   ]
  },
  {
   "cell_type": "code",
   "execution_count": 31,
   "id": "030d791f-38b9-4c32-9d44-20594c699d55",
   "metadata": {},
   "outputs": [
    {
     "name": "stdout",
     "output_type": "stream",
     "text": [
      "79672\n",
      "33594\n",
      "0.4216537805000502\n"
     ]
    }
   ],
   "source": [
    "adopted = acc_intake_outcomes.loc[(acc_intake_outcomes['outcome_type'] == \"Adoption\")].count()\n",
    "total = acc_intake_outcomes[\"count\"].count()\n",
    "print(total)\n",
    "print(adopted[\"count\"])\n",
    "print(adopted[\"count\"]/total)"
   ]
  },
  {
   "cell_type": "markdown",
   "id": "fecc11cc",
   "metadata": {},
   "source": [
    "#### Answer 3 ) Ratio is the comparison between two numbers  (usually by dividing them) and it describes roughly how many times one value can contain another.  Hence,  the ratio between incoming pets and adopted pets would be the total number of incoming pets divided by the total number of adopted pets. \n",
    "\n",
    "For clarification, I also printed the total number of incoming pets and adopted pets. A ratio of 0.42 shows that less than half of all the incoming pets are adopted."
   ]
  },
  {
   "cell_type": "markdown",
   "id": "e5de525d-5a34-4707-b453-abf02f624be1",
   "metadata": {},
   "source": [
    "### 4) What is the distribution of the types of animals in the shelter?\n",
    "#### Find the count of each type of animal in the shelter.\n"
   ]
  },
  {
   "cell_type": "code",
   "execution_count": 481,
   "id": "3358ed8e-f4ca-41fa-8020-f27cddd2c9fc",
   "metadata": {},
   "outputs": [
    {
     "name": "stdout",
     "output_type": "stream",
     "text": [
      "Dog      45366\n",
      "Cat      29539\n",
      "Other     4428\n",
      "Bird       339\n",
      "Name: animal_type, dtype: int64\n"
     ]
    }
   ],
   "source": [
    "types = acc_intake_outcomes.animal_type.value_counts()\n",
    "print(types)\n"
   ]
  },
  {
   "cell_type": "markdown",
   "id": "26665799",
   "metadata": {},
   "source": [
    "####  Answer 4 ) Above it is the count of each type of animal in the shelter. \n",
    "\n",
    "To reach these results, I created a variable called \"types\" to store all types of animals; and used value_counts(), that returns a series containing counts of unique values (in this case, animal_type)."
   ]
  },
  {
   "cell_type": "markdown",
   "id": "1d7fa447-e783-4901-b89e-66e1510df528",
   "metadata": {},
   "source": [
    "### 5) What are the adoption rates for specific breeds?\n",
    "#### Find the top 5 dog breeds in the shelter (based on count) and then find the adoption percentage of each breed.\n"
   ]
  },
  {
   "cell_type": "code",
   "execution_count": 96,
   "id": "dfd57893-a068-4b24-a34c-6518eb5b83bd",
   "metadata": {},
   "outputs": [
    {
     "name": "stdout",
     "output_type": "stream",
     "text": [
      "TOP 5 DOG BREED IN THE SHELTER\n",
      "\n",
      "Domestic Shorthair Mix      23423\n",
      "Pit Bull Mix                 6256\n",
      "Chihuahua Shorthair Mix      4831\n",
      "Labrador Retriever Mix       4789\n",
      "Domestic Medium Hair Mix     2326\n",
      "Name: breed, dtype: int64\n",
      "\n",
      "ADOPTION PERCENTAGE OF EACH BREED\n",
      "\n",
      "There were 9865 Domestic Shorthair Mix adopted from a total of 8270: a percentage of 42.11672287922128\n",
      "There were 2324 Pit Bull Mix adopted from a total of 6673: a percentage of 37.148337595907925\n",
      "There were 2270 Chihuahua Shorthair Mix adopted from a total of 4471: a percentage of 46.98820120057959\n",
      "There were 2368 Labrador Retriever Mix adopted from a total of 3598: a percentage of 49.446648569638754\n",
      "There were 1037 Domestic Medium Hair Mix adopted from a total of 2835: a percentage of 44.58297506448839\n"
     ]
    }
   ],
   "source": [
    "breed = acc_intake_outcomes.breed.value_counts().head(5)\n",
    "print(\"TOP 5 DOG BREED IN THE SHELTER\")\n",
    "print()\n",
    "print(breed)\n",
    "adopted = acc_intake_outcomes.loc[(acc_intake_outcomes['outcome_type'] == \"Adoption\")]\n",
    "shorthair = adopted.loc[(adopted['breed'] == \"Domestic Shorthair Mix\")]\n",
    "pitbull = adopted.loc[(adopted['breed'] == \"Pit Bull Mix\")]\n",
    "chihuahua = adopted.loc[(adopted['breed'] == \"Chihuahua Shorthair Mix\")]\n",
    "labrador = adopted.loc[(adopted['breed'] == \"Labrador Retriever Mix\")]\n",
    "mediumhair = adopted.loc[(adopted['breed'] == \"Domestic Medium Hair Mix\")]\n",
    "print()\n",
    "print(\"ADOPTION PERCENTAGE OF EACH BREED\")\n",
    "print()\n",
    "print(\"There were\", shorthair[\"count\"].count(), \"Domestic Shorthair Mix adopted from a total of 8270: a percentage of\", (shorthair[\"count\"].count()/23423)*100 )\n",
    "print(\"There were\" , pitbull[\"count\"].count(), \"Pit Bull Mix adopted from a total of 6673: a percentage of\", (pitbull[\"count\"].count()/6256)*100)\n",
    "print(\"There were\", chihuahua[\"count\"].count(),\"Chihuahua Shorthair Mix adopted from a total of 4471: a percentage of\", (chihuahua[\"count\"].count()/4831)*100)\n",
    "print(\"There were\",  labrador[\"count\"].count(), \"Labrador Retriever Mix adopted from a total of 3598: a percentage of\", (labrador[\"count\"].count()/4789)*100)\n",
    "print(\"There were\", mediumhair[\"count\"].count(), \"Domestic Medium Hair Mix adopted from a total of 2835: a percentage of\", (mediumhair[\"count\"].count()/2326)*100)\n"
   ]
  },
  {
   "cell_type": "markdown",
   "id": "9b2f7e3b",
   "metadata": {},
   "source": [
    "####  Answer 5 ) \n",
    "\n",
    "What are the adoption rates for specific breeds? You've produced some numbers here, which his awesome! However, we are looking for \"the adoption percentage of each breed\". Write some markdown to explain which percentage is for what breed.\n"
   ]
  },
  {
   "cell_type": "markdown",
   "id": "10e492e4-68ea-461f-a4e3-2173efcad7bb",
   "metadata": {},
   "source": [
    "### 6) What are the adoption rates for different colorings?\n",
    "#### Find the top 5 colorings in the shelter (based on count) and then find the adoption percentage of each color."
   ]
  },
  {
   "cell_type": "code",
   "execution_count": 103,
   "id": "8b43ec58-1dca-4d88-9cb3-dc4ef51a9e10",
   "metadata": {},
   "outputs": [
    {
     "name": "stdout",
     "output_type": "stream",
     "text": [
      "TOP 5 COLORINGS IN THE SHELTER\n",
      "\n",
      "Black/White    8270\n",
      "Black          6673\n",
      "Brown Tabby    4471\n",
      "Brown          3598\n",
      "White          2835\n",
      "Name: color, dtype: int64\n",
      "\n",
      "ADOPTION RATIO OF EACH COLOR\n",
      "\n",
      "There were 3738 Black/White adopted from a total of 8270: a ratio of 0.4519951632406288\n",
      "There were 2692 Black adopted from a total of 6673: a ratio of 0.3255139056831923\n",
      "There were 1871 Brown Tabby adopted from a total of 4471: a ratio of 0.22623941958887545\n",
      "There were 794 Brown adopted from a total of 3598: a ratio of 0.09600967351874244\n",
      "There were 1065 White Tabby adopted from a total of 2835: a ratio of 0.12877871825876663\n"
     ]
    }
   ],
   "source": [
    "color = acc_intake_outcomes.color.value_counts().head(5)\n",
    "print(\"TOP 5 COLORINGS IN THE SHELTER\")\n",
    "print()\n",
    "print(color)\n",
    "adopted = acc_intake_outcomes.loc[(acc_intake_outcomes['outcome_type'] == \"Adoption\")]\n",
    "blackwhite = adopted.loc[(adopted['color'] == \"Black/White\")]\n",
    "black = adopted.loc[(adopted['color'] == \"Black\")]\n",
    "browntabby = adopted.loc[(adopted['color'] == \"Brown Tabby\")]\n",
    "brown = adopted.loc[(adopted['color'] == \"Brown\")]\n",
    "white = adopted.loc[(adopted['color'] == \"White\")]\n",
    "print()\n",
    "print(\"ADOPTION RATIO OF EACH COLOR\")\n",
    "print()\n",
    "print(\"There were\", blackwhite[\"count\"].count(), \"Black/White adopted from a total of 8270: a ratio of\", (blackwhite[\"count\"].count()/8270))\n",
    "print(\"There were\" , black[\"count\"].count(), \"Black adopted from a total of 6673: a ratio of\", (black[\"count\"].count()/8270))\n",
    "print(\"There were\", browntabby[\"count\"].count(),\"Brown Tabby adopted from a total of 4471: a ratio of\", (browntabby[\"count\"].count()/8270))\n",
    "print(\"There were\",  brown[\"count\"].count(), \"Brown adopted from a total of 3598: a ratio of\", (brown[\"count\"].count()/8270))\n",
    "print(\"There were\", white[\"count\"].count(), \"White Tabby adopted from a total of 2835: a ratio of\", (white[\"count\"].count()/8270))\n",
    "\n",
    "\n"
   ]
  },
  {
   "cell_type": "markdown",
   "id": "baa07890",
   "metadata": {},
   "source": [
    "####  Answer 6 ) Above are listed the adoption rates for the top 5 colorings in the shelter\n",
    "\n",
    "To reach these results, I created a variable called \"color\" to store the top 5 colorings in the shelter  and used value_counts(), that returns a series containing counts of unique values (in this case, color).\n"
   ]
  },
  {
   "cell_type": "markdown",
   "id": "17a7f48d-e7df-4438-aa3f-6eea7ff1a282",
   "metadata": {},
   "source": [
    "### 7) About how many animals are spayed/neutered each month?\n",
    "#### This will help the shelter allocate resources and staff. Assume that all intact males and females will be spayed/neutered.\n"
   ]
  },
  {
   "cell_type": "code",
   "execution_count": 35,
   "id": "96d37f20-3dfb-4628-b763-1ab4a295d881",
   "metadata": {},
   "outputs": [
    {
     "name": "stdout",
     "output_type": "stream",
     "text": [
      "49021\n",
      "intake_month\n",
      "1     3521\n",
      "2     3184\n",
      "3     3399\n",
      "4     3531\n",
      "5     5211\n",
      "6     4994\n",
      "7     4287\n",
      "8     4121\n",
      "9     4184\n",
      "10    4860\n",
      "11    4087\n",
      "12    3642\n",
      "Name: count, dtype: int64\n"
     ]
    }
   ],
   "source": [
    "sex = acc_intake_outcomes.loc[(acc_intake_outcomes['sex_upon_intake'] == \"Intact Male\") | (acc_intake_outcomes['sex_upon_intake'] == \"Intact Female\" )] \n",
    "print(sex['sex_upon_intake'].count())\n",
    "months = sex.groupby(\"intake_month\").count()\n",
    "print(months[\"count\"])"
   ]
  },
  {
   "cell_type": "markdown",
   "id": "fc491793",
   "metadata": {},
   "source": [
    "##### 7 Answer ) Above it is shown many animals are spayed/neutered each month  - first number (49021) is the count of pets that are intact on intake, and below it is the  rundown of how many there are per month. \n",
    "\n",
    "To reach these results, I first created a variable sex to store just values where sex_upon_intake was equal to \"Intact Male\" OR  \"Intact Female\". Then I grouped these values (using group_by) by month (intake_month) and counted unique values (function count()) inside each group (here, group of months)."
   ]
  },
  {
   "cell_type": "code",
   "execution_count": null,
   "id": "91c1915a-5f0c-4b2f-8b95-d6a1fe356703",
   "metadata": {},
   "outputs": [],
   "source": []
  }
 ],
 "metadata": {
  "kernelspec": {
   "display_name": "Python 3 (ipykernel)",
   "language": "python",
   "name": "python3"
  },
  "language_info": {
   "codemirror_mode": {
    "name": "ipython",
    "version": 3
   },
   "file_extension": ".py",
   "mimetype": "text/x-python",
   "name": "python",
   "nbconvert_exporter": "python",
   "pygments_lexer": "ipython3",
   "version": "3.9.7"
  }
 },
 "nbformat": 4,
 "nbformat_minor": 5
}
