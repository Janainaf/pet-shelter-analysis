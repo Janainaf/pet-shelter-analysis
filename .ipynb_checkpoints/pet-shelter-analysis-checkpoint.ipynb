{
 "cells": [
  {
   "cell_type": "code",
   "execution_count": 94,
   "id": "5dc28bf1-f8d5-4004-946d-cc2c3077e474",
   "metadata": {
    "jp-MarkdownHeadingCollapsed": true,
    "tags": []
   },
   "outputs": [],
   "source": [
    "import numpy as np\n",
    "import pandas as pd\n",
    "acc_intake = pd.read_csv('aac_intakes.csv')\n"
   ]
  },
  {
   "cell_type": "code",
   "execution_count": 13,
   "id": "952773f3-fc83-49c1-9206-b64c44c0f483",
   "metadata": {},
   "outputs": [
    {
     "data": {
      "text/plain": [
       "age_upon_intake     object\n",
       "animal_id           object\n",
       "animal_type         object\n",
       "breed               object\n",
       "color               object\n",
       "datetime            object\n",
       "datetime2           object\n",
       "found_location      object\n",
       "intake_condition    object\n",
       "intake_type         object\n",
       "name                object\n",
       "sex_upon_intake     object\n",
       "dtype: object"
      ]
     },
     "execution_count": 116,
     "metadata": {},
     "output_type": "execute_result"
    }
   ],
   "source": [
    "acc_intake.dtypes"
   ]
  },
  {
   "cell_type": "markdown",
   "id": "f14f172b-142b-4f62-8409-7daad7ab778d",
   "metadata": {},
   "source": [
    "### 1) Find the top 5 places where animals are found so the shelter can coordinate with local volunteers and animal control to monitor these areas. \n",
    "#### Try to group the found locations together\n"
   ]
  },
  {
   "cell_type": "code",
   "execution_count": 118,
   "id": "cdd634bb-9065-4a51-ae06-6ff8a2201494",
   "metadata": {},
   "outputs": [
    {
     "data": {
      "text/plain": [
       "found_location\n",
       "Austin (TX)                              14443\n",
       "Outside Jurisdiction                       948\n",
       "Travis (TX)                                921\n",
       "7201 Levander Loop in Austin (TX)          517\n",
       "Del Valle (TX)                             411\n",
       "Pflugerville (TX)                          372\n",
       "Manor (TX)                                 280\n",
       "4434 Frontier Trl in Austin (TX)           163\n",
       "124 W Anderson Ln in Austin (TX)           153\n",
       "Leander (TX)                               113\n",
       "12034 Research Blvd in Austin (TX)          98\n",
       "1156 W Cesar Chavez in Austin (TX)          98\n",
       "12034 Research in Austin (TX)               96\n",
       "1834 Ferguson in Austin (TX)                90\n",
       "1156 W Cesar Chavez St in Austin (TX)       74\n",
       "4106 N Lamar in Austin (TX)                 71\n",
       "14811 Chicadee in Pflugerville (TX)         67\n",
       "4106 N Lamar Blvd in Austin (TX)            66\n",
       "Lago Vista (TX)                             58\n",
       "Round Rock (TX)                             56\n",
       "Name: animal_id, dtype: int64"
      ]
     },
     "execution_count": 118,
     "metadata": {},
     "output_type": "execute_result"
    }
   ],
   "source": [
    ">>> location = acc_intake.groupby(\"found_location\")[\"animal_id\"].count()\n",
    ">>> location.sort_values(ascending=False).head(20)"
   ]
  },
  {
   "cell_type": "markdown",
   "id": "acb07a22-38c4-4f7b-8ca2-b58472ab4968",
   "metadata": {},
   "source": [
    "### 2) What is the average number of pets found in a month in the year 2015? Are there months where there is a higher number of animals found?\n",
    "#### Knowing the number of pets the shelter might see in a month can help them gather enough resources and donations to care for the animals they receive.\n"
   ]
  },
  {
   "cell_type": "code",
   "execution_count": 121,
   "id": "fd61f834-f025-42aa-b8d1-3793986d0eba",
   "metadata": {},
   "outputs": [
    {
     "data": {
      "text/plain": [
       "80171   2018-03-29 18:32:00\n",
       "80182   2018-03-29 18:20:00\n",
       "80172   2018-03-29 18:19:00\n",
       "80169   2018-03-29 18:15:00\n",
       "80178   2018-03-29 17:54:00\n",
       "80177   2018-03-29 17:45:00\n",
       "80180   2018-03-29 17:45:00\n",
       "80181   2018-03-29 17:19:00\n",
       "80184   2018-03-29 17:13:00\n",
       "80173   2018-03-29 16:42:00\n",
       "80159   2018-03-29 16:27:00\n",
       "80164   2018-03-29 16:23:00\n",
       "80167   2018-03-29 16:23:00\n",
       "80168   2018-03-29 16:23:00\n",
       "80162   2018-03-29 16:23:00\n",
       "80160   2018-03-29 16:23:00\n",
       "80166   2018-03-29 16:23:00\n",
       "80163   2018-03-29 16:04:00\n",
       "80161   2018-03-29 15:43:00\n",
       "80156   2018-03-29 14:46:00\n",
       "Name: datetime, dtype: datetime64[ns]"
      ]
     },
     "execution_count": 121,
     "metadata": {},
     "output_type": "execute_result"
    }
   ],
   "source": [
    "acc_intake['datetime'] = pd.to_datetime(acc_intake['datetime'])\n",
    "date = acc_intake['datetime']\n",
    "date.sort_values(ascending=False).head(20)"
   ]
  },
  {
   "cell_type": "code",
   "execution_count": null,
   "id": "71ad481a-9533-4186-9bcf-913bac433602",
   "metadata": {},
   "outputs": [],
   "source": []
  }
 ],
 "metadata": {
  "kernelspec": {
   "display_name": "Python 3 (ipykernel)",
   "language": "python",
   "name": "python3"
  },
  "language_info": {
   "codemirror_mode": {
    "name": "ipython",
    "version": 3
   },
   "file_extension": ".py",
   "mimetype": "text/x-python",
   "name": "python",
   "nbconvert_exporter": "python",
   "pygments_lexer": "ipython3",
   "version": "3.9.7"
  }
 },
 "nbformat": 4,
 "nbformat_minor": 5
}
